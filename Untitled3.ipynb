{
 "cells": [
  {
   "cell_type": "code",
   "execution_count": 4,
   "metadata": {},
   "outputs": [],
   "source": [
    "import json\n",
    "\n",
    "j = list()\n",
    "with open(r\"C:\\Users\\Zak\\Desktop\\tours\\ln_processed.json\", \"r\", encoding=\"utf8\") as infile:\n",
    "    j = json.load(infile)\n",
    "    \n",
    "for mail in j:\n",
    "    del mail[\"sacdemots\"]\n",
    "    del mail[\"texte_lemmatise\"]\n",
    "    mail[\"lieux\"] = \" \".join(mail[\"lieux\"])\n",
    "    mail[\"keywords\"] = \" \". join(mail[\"keywords\"])\n",
    "\n",
    "with open(r\"C:\\Users\\Zak\\Desktop\\tours\\ln_processed_less.json\", \"w\", encoding=\"utf8\") as outfile:\n",
    "    json.dump(j, outfile, indent=2)"
   ]
  },
  {
   "cell_type": "code",
   "execution_count": null,
   "metadata": {},
   "outputs": [],
   "source": []
  }
 ],
 "metadata": {
  "kernelspec": {
   "display_name": "Python 3",
   "language": "python",
   "name": "python3"
  },
  "language_info": {
   "codemirror_mode": {
    "name": "ipython",
    "version": 3
   },
   "file_extension": ".py",
   "mimetype": "text/x-python",
   "name": "python",
   "nbconvert_exporter": "python",
   "pygments_lexer": "ipython3",
   "version": "3.7.3"
  }
 },
 "nbformat": 4,
 "nbformat_minor": 2
}
