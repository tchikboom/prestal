{
 "cells": [
  {
   "cell_type": "markdown",
   "metadata": {},
   "source": [
    "Repérage des noms des fichiers pour les ouvrir"
   ]
  },
  {
   "cell_type": "code",
   "execution_count": 1,
   "metadata": {},
   "outputs": [],
   "source": [
    "import glob\n",
    "path = r\"C:\\Users\\Zak\\Downloads\\tours\\html\\Tous les messages_20190323-1523\\messages\\*.html\"\n",
    "files = glob.glob(path)"
   ]
  },
  {
   "cell_type": "markdown",
   "metadata": {},
   "source": [
    "Lecture des fichiers"
   ]
  },
  {
   "cell_type": "code",
   "execution_count": 2,
   "metadata": {},
   "outputs": [],
   "source": [
    "mails = list()\n",
    "for f in files:\n",
    "    with open(f, encoding=\"utf8\") as mail:\n",
    "        mails.append(mail.read())"
   ]
  },
  {
   "cell_type": "code",
   "execution_count": 3,
   "metadata": {},
   "outputs": [],
   "source": [
    "from bs4 import BeautifulSoup\n",
    "import re\n",
    "\n",
    "ln = list()\n",
    "for mail in mails:\n",
    "    soup = BeautifulSoup(mail, \"lxml\")\n",
    "    if soup.title is not None: # On élimine les mails vides?\n",
    "        title = soup.title.string\n",
    "\n",
    "    if title is not None: #On élimine tous les mails sans objet\n",
    "        if re.match(r\"\\[ln\\]\", title):\n",
    "            text = soup.get_text()\n",
    "            final = {\n",
    "                \"texte\": text,\n",
    "                \"titre\": title\n",
    "            }\n",
    "            ln.append(final)"
   ]
  },
  {
   "cell_type": "code",
   "execution_count": 17,
   "metadata": {},
   "outputs": [],
   "source": [
    "for mail in ln:\n",
    "    date_regex = re.search(r\"(\\w{3}, \\d{1,2} \\w{3} \\d{4})\", mail[\"texte\"])\n",
    "    if date_regex is not None:\n",
    "        date = date_regex.group(0)\n",
    "        mail[\"date\"] = date\n",
    "    else:\n",
    "        continue"
   ]
  },
  {
   "cell_type": "code",
   "execution_count": 18,
   "metadata": {},
   "outputs": [],
   "source": [
    "for mail in ln:\n",
    "    job_regex = re.search(r\"Job|Offre de these\", mail[\"titre\"])\n",
    "    if job_regex is not None:\n",
    "        mail[\"type\"] = \"job\"\n",
    "    else:\n",
    "        continue"
   ]
  },
  {
   "cell_type": "code",
   "execution_count": 19,
   "metadata": {},
   "outputs": [],
   "source": [
    "for mail in ln:\n",
    "    stage_regex = re.search(r\"Stage\", mail[\"titre\"])\n",
    "    if stage_regex is not None:\n",
    "        mail[\"type\"] = \"stage\"\n",
    "    else:\n",
    "        continue"
   ]
  },
  {
   "cell_type": "code",
   "execution_count": 20,
   "metadata": {},
   "outputs": [
    {
     "name": "stdout",
     "output_type": "stream",
     "text": [
      "584\n"
     ]
    }
   ],
   "source": [
    "liste_finale = list()\n",
    "for mail in ln:\n",
    "    if \"type\" in mail.keys() and \"date\" in mail.keys():\n",
    "        liste_finale.append(mail)\n",
    "print(len(liste_finale))"
   ]
  },
  {
   "cell_type": "code",
   "execution_count": 21,
   "metadata": {},
   "outputs": [],
   "source": [
    "import json\n",
    "with open(r\"C:\\Users\\Zak\\Desktop\\tours\\ln.json\", \"w\", encoding=\"utf8\") as lnout:\n",
    "    json.dump(liste_finale, lnout, indent=4)"
   ]
  },
  {
   "cell_type": "code",
   "execution_count": 7,
   "metadata": {},
   "outputs": [],
   "source": [
    "import spacy\n",
    "nlp = spacy.load(\"fr_core_news_sm\")"
   ]
  }
 ],
 "metadata": {
  "kernelspec": {
   "display_name": "Python 3",
   "language": "python",
   "name": "python3"
  },
  "language_info": {
   "codemirror_mode": {
    "name": "ipython",
    "version": 3
   },
   "file_extension": ".py",
   "mimetype": "text/x-python",
   "name": "python",
   "nbconvert_exporter": "python",
   "pygments_lexer": "ipython3",
   "version": "3.7.3"
  }
 },
 "nbformat": 4,
 "nbformat_minor": 2
}
